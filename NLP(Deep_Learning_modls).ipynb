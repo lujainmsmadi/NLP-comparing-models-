{
  "nbformat": 4,
  "nbformat_minor": 0,
  "metadata": {
    "colab": {
      "provenance": []
    },
    "kernelspec": {
      "name": "python3",
      "display_name": "Python 3"
    },
    "language_info": {
      "name": "python"
    }
  },
  "cells": [
    {
      "cell_type": "markdown",
      "source": [
        "\n",
        "\n",
        "\n",
        "\n",
        "# **Importing**"
      ],
      "metadata": {
        "id": "IEahJEkBgwJM"
      }
    },
    {
      "cell_type": "code",
      "source": [
        "import pandas as pd\n",
        "import numpy as np\n",
        "import re\n",
        "import nltk\n",
        "from nltk.corpus import stopwords\n",
        "from nltk.stem import PorterStemmer\n",
        "from sklearn import model_selection\n",
        "import tensorflow as tf\n",
        "from tensorflow.keras.preprocessing.text import Tokenizer\n",
        "from tensorflow.keras.preprocessing.sequence import pad_sequences\n",
        "from tensorflow.keras.models import Sequential\n",
        "from tensorflow.keras.layers import Embedding, LSTM, Dense, Bidirectional, Dropout ,GRU,Flatten,Conv1D,GlobalAveragePooling1D\n",
        "from tensorflow.keras.callbacks import EarlyStopping\n",
        "import matplotlib.pyplot as plt\n",
        "import seaborn as sns"
      ],
      "metadata": {
        "id": "HBkSl_4O7m6u"
      },
      "execution_count": null,
      "outputs": []
    },
    {
      "cell_type": "code",
      "source": [
        "dataset = pd.read_csv(\"/content/dataset.csv\")\n"
      ],
      "metadata": {
        "id": "R13NZafB8EF1"
      },
      "execution_count": null,
      "outputs": []
    },
    {
      "cell_type": "markdown",
      "source": [
        "# **preprocessing**"
      ],
      "metadata": {
        "id": "rPQauck2-QlG"
      }
    },
    {
      "cell_type": "code",
      "source": [
        "# Initialize NLTK resources\n",
        "nltk.download('stopwords')\n",
        "stop_words = set(stopwords.words(\"english\"))\n",
        "stemmer = PorterStemmer()\n",
        "\n",
        "def preprocess(tweet):\n",
        "    # Remove extra spaces\n",
        "    tweet = re.sub(r'\\s+', ' ', tweet)\n",
        "\n",
        "    # Remove mentions (@username)\n",
        "    tweet = re.sub(r'@[\\w-]+', '', tweet)\n",
        "\n",
        "    # Remove URLs\n",
        "    tweet = re.sub(r'http[s]?://(?:[a-zA-Z]|[0-9]|[$-_@.&+]|[!*\\(\\),]|(?:%[0-9a-fA-F][0-9a-fA-F]))+', '', tweet)\n",
        "\n",
        "    # Remove punctuations, numbers, and convert to lowercase\n",
        "    tweet = re.sub(r'[^a-zA-Z]', ' ', tweet).lower()\n",
        "\n",
        "    # Tokenize\n",
        "    words = tweet.split()\n",
        "\n",
        "    # Remove stopwords and apply stemming\n",
        "    words = [stemmer.stem(word) for word in words if word not in stop_words]\n",
        "\n",
        "    # Join the words back into a string\n",
        "    processed_tweet = ' '.join(words)\n",
        "\n",
        "    return processed_tweet\n",
        "\n",
        "# Preprocess tweets in the dataset\n",
        "dataset['processed_tweets'] = dataset['tweet'].apply(preprocess)\n",
        "print(\"PREPROCESSED SUCCESSFULLY...\")\n"
      ],
      "metadata": {
        "id": "Y6PPkovANEio",
        "colab": {
          "base_uri": "https://localhost:8080/"
        },
        "outputId": "42f9890e-7fe6-460a-e358-f065a966c402"
      },
      "execution_count": null,
      "outputs": [
        {
          "output_type": "stream",
          "name": "stderr",
          "text": [
            "[nltk_data] Downloading package stopwords to /root/nltk_data...\n",
            "[nltk_data]   Unzipping corpora/stopwords.zip.\n"
          ]
        },
        {
          "output_type": "stream",
          "name": "stdout",
          "text": [
            "PREPROCESSED SUCCESSFULLY...\n"
          ]
        }
      ]
    },
    {
      "cell_type": "code",
      "source": [
        "#Drop \"id\" column from datasets\n",
        "dataset = dataset.drop(\"id\", axis = 1)\n",
        "\n",
        "print(\"'ID' COLUMNS DROPPED SUCCESFULLY...\")\n"
      ],
      "metadata": {
        "id": "DP-pd3aJA4P_",
        "colab": {
          "base_uri": "https://localhost:8080/"
        },
        "outputId": "71a48fd3-2704-4710-e44c-1210460fd713"
      },
      "execution_count": null,
      "outputs": [
        {
          "output_type": "stream",
          "name": "stdout",
          "text": [
            "'ID' COLUMNS DROPPED SUCCESFULLY...\n"
          ]
        }
      ]
    },
    {
      "cell_type": "code",
      "source": [
        "#Drop \"tweet\" column from datasets\n",
        "dataset = dataset.drop(\"tweet\", axis = 1)\n",
        "\n",
        "print(\"'tweet' COLUMNS DROPPED SUCCESFULLY...\")\n"
      ],
      "metadata": {
        "id": "LuB5_12qafkS",
        "colab": {
          "base_uri": "https://localhost:8080/"
        },
        "outputId": "30f43d9c-14ce-4cab-9901-898045786f0d"
      },
      "execution_count": null,
      "outputs": [
        {
          "output_type": "stream",
          "name": "stdout",
          "text": [
            "'tweet' COLUMNS DROPPED SUCCESFULLY...\n"
          ]
        }
      ]
    },
    {
      "cell_type": "code",
      "source": [
        "print(dataset.info())\n"
      ],
      "metadata": {
        "id": "Ls0dgcnSY-nM",
        "colab": {
          "base_uri": "https://localhost:8080/"
        },
        "outputId": "7f7dcda6-f017-47cf-ebb5-a2ffa98ed931"
      },
      "execution_count": null,
      "outputs": [
        {
          "output_type": "stream",
          "name": "stdout",
          "text": [
            "<class 'pandas.core.frame.DataFrame'>\n",
            "RangeIndex: 31962 entries, 0 to 31961\n",
            "Data columns (total 2 columns):\n",
            " #   Column            Non-Null Count  Dtype \n",
            "---  ------            --------------  ----- \n",
            " 0   label             31962 non-null  int64 \n",
            " 1   processed_tweets  31962 non-null  object\n",
            "dtypes: int64(1), object(1)\n",
            "memory usage: 499.5+ KB\n",
            "None\n"
          ]
        }
      ]
    },
    {
      "cell_type": "markdown",
      "source": [
        "# **Splitting the dataset**"
      ],
      "metadata": {
        "id": "vN2IXI4UgPhm"
      }
    },
    {
      "cell_type": "code",
      "source": [
        "x = dataset[\"processed_tweets\"]\n",
        "y = dataset[\"label\"]\n",
        "\n",
        "train_x, test_x, train_y, test_y = model_selection.train_test_split(x, y, test_size = 0.20, shuffle = True, random_state = 11)\n",
        "\n",
        "print(\"DIVIDED SUCCESFULLY...\")"
      ],
      "metadata": {
        "id": "-6k-6fZNBHqT",
        "colab": {
          "base_uri": "https://localhost:8080/"
        },
        "outputId": "2590ad67-cd19-4768-abfa-6840433ba8ba"
      },
      "execution_count": null,
      "outputs": [
        {
          "output_type": "stream",
          "name": "stdout",
          "text": [
            "DIVIDED SUCCESFULLY...\n"
          ]
        }
      ]
    },
    {
      "cell_type": "markdown",
      "source": [
        "# **Tokenization and Padding**"
      ],
      "metadata": {
        "id": "gFc3NhmgBO4i"
      }
    },
    {
      "cell_type": "code",
      "source": [
        "# Define tokenizer\n",
        "vocab_size = 50000\n",
        "max_length = 20\n",
        "tokenizer = Tokenizer(num_words=vocab_size, oov_token='<OOV>')\n",
        "tokenizer.fit_on_texts(train_x)\n",
        "\n",
        "# Tokenize\n",
        "train_sequences = tokenizer.texts_to_sequences(train_x)\n",
        "test_sequences = tokenizer.texts_to_sequences(test_x)\n",
        "\n",
        "# Pad sequences\n",
        "train_pad_seq = pad_sequences(train_sequences, maxlen=max_length, truncating='post')\n",
        "test_pad_seq = pad_sequences(test_sequences, maxlen=max_length, truncating='post')\n",
        "\n",
        "print(\"Tokenization and padding completed successfully...\")\n"
      ],
      "metadata": {
        "colab": {
          "base_uri": "https://localhost:8080/"
        },
        "id": "EH5qaqmBA8Td",
        "outputId": "d7efe75c-80ce-4859-c7b9-f3342d329771"
      },
      "execution_count": null,
      "outputs": [
        {
          "output_type": "stream",
          "name": "stdout",
          "text": [
            "Tokenization and padding completed successfully...\n"
          ]
        }
      ]
    },
    {
      "cell_type": "markdown",
      "source": [
        "# **Model Definitions**"
      ],
      "metadata": {
        "id": "d2sL_2beBp2b"
      }
    },
    {
      "cell_type": "code",
      "source": [
        "embedding_dim = 100\n",
        "# Use early stopping to prevent overfitting\n",
        "early_stopping = EarlyStopping(monitor='val_loss', patience=3, restore_best_weights=True)"
      ],
      "metadata": {
        "id": "TAxbGLmn_bSn"
      },
      "execution_count": null,
      "outputs": []
    },
    {
      "cell_type": "markdown",
      "source": [
        "# **LSTM**"
      ],
      "metadata": {
        "id": "s4kmxKfZqCo_"
      }
    },
    {
      "cell_type": "code",
      "source": [
        "# Define the LSTM model architecture\n",
        "model_lstm = Sequential([\n",
        "    Embedding(input_dim=vocab_size, output_dim=embedding_dim),\n",
        "    Bidirectional(LSTM(units=128, dropout=0.2, recurrent_dropout=0.2)),\n",
        "    Dense(units=1, activation='sigmoid')\n",
        "])\n",
        "\n",
        "\n",
        "mmodel_lstm.compile(optimizer='adam', loss='binary_crossentropy', metrics=['accuracy'])\n",
        "\n",
        "\n",
        "\n",
        "# Fit the model on training data\n",
        "history_lstm = model_lstm.fit(train_pad_seq, train_y, epochs=20, batch_size=64,\n",
        "                               validation_data=(test_pad_seq, test_y), callbacks=[early_stopping])\n",
        "\n",
        "# Evaluate the model\n",
        "loss_lstm, accuracy_lstm = model_lstm.evaluate(test_pad_seq, test_y)\n",
        "print(\"Test Loss_lstm:\", loss_lstm)\n",
        "print(\"Test Accuracy_lstm:\", accuracy_lstm)\n",
        "\n",
        "# Print model summary\n",
        "print(model_lstm.summary())"
      ],
      "metadata": {
        "id": "JQ8AMc-D7fNd",
        "colab": {
          "base_uri": "https://localhost:8080/"
        },
        "outputId": "cf5e2682-84b1-40a0-923a-1307b5913e4d"
      },
      "execution_count": null,
      "outputs": [
        {
          "output_type": "stream",
          "name": "stdout",
          "text": [
            "Epoch 1/20\n",
            "400/400 [==============================] - 126s 295ms/step - loss: 0.1637 - accuracy: 0.9482 - val_loss: 0.1235 - val_accuracy: 0.9556\n",
            "Epoch 2/20\n",
            "400/400 [==============================] - 115s 288ms/step - loss: 0.0652 - accuracy: 0.9781 - val_loss: 0.1329 - val_accuracy: 0.9587\n",
            "Epoch 3/20\n",
            "400/400 [==============================] - 95s 237ms/step - loss: 0.0329 - accuracy: 0.9895 - val_loss: 0.1567 - val_accuracy: 0.9553\n",
            "Epoch 4/20\n",
            "400/400 [==============================] - 116s 289ms/step - loss: 0.0177 - accuracy: 0.9943 - val_loss: 0.1981 - val_accuracy: 0.9529\n",
            "200/200 [==============================] - 4s 18ms/step - loss: 0.1235 - accuracy: 0.9556\n",
            "Test Loss_lstm: 0.12345243990421295\n",
            "Test Accuracy_lstm: 0.9555764198303223\n",
            "Model: \"sequential_1\"\n",
            "_________________________________________________________________\n",
            " Layer (type)                Output Shape              Param #   \n",
            "=================================================================\n",
            " embedding_1 (Embedding)     (None, None, 100)         5000000   \n",
            "                                                                 \n",
            " bidirectional_1 (Bidirecti  (None, 256)               234496    \n",
            " onal)                                                           \n",
            "                                                                 \n",
            " dense_1 (Dense)             (None, 2)                 514       \n",
            "                                                                 \n",
            "=================================================================\n",
            "Total params: 5235010 (19.97 MB)\n",
            "Trainable params: 5235010 (19.97 MB)\n",
            "Non-trainable params: 0 (0.00 Byte)\n",
            "_________________________________________________________________\n",
            "None\n"
          ]
        }
      ]
    },
    {
      "cell_type": "markdown",
      "source": [
        "# **GRU**"
      ],
      "metadata": {
        "id": "fg06ZAclqDff"
      }
    },
    {
      "cell_type": "code",
      "source": [
        "# Define the GRU model architecture\n",
        "\n",
        "model_gru = Sequential([\n",
        "    Embedding(input_dim=vocab_size, output_dim=embedding_dim),\n",
        "    Bidirectional(GRU(units=128, dropout=0.2, recurrent_dropout=0.2)),\n",
        "    Dense(Dense(units=1, activation='sigmoid'))\n",
        "])\n",
        "\n",
        "# Compile the model\n",
        "model_gru.compile(optimizer='adam', loss='binary_crossentropy', metrics=['accuracy'])\n",
        "\n",
        "\n",
        "# Fit the model on training data\n",
        "history_gru = model_gru.fit(train_pad_seq, train_y, epochs=20, batch_size=64,\n",
        "                             validation_data=(test_pad_seq, test_y), callbacks=[early_stopping])\n",
        "\n",
        "# Evaluate the model\n",
        "loss_gru, accuracy_gru = model_gru.evaluate(test_pad_seq, test_y)\n",
        "print(\"Test Loss_gru:\", loss_gru)\n",
        "print(\"Test Accuracy_gru:\", accuracy_gru)\n",
        "\n",
        "# Print the model summary\n",
        "print(model_gru.summary())"
      ],
      "metadata": {
        "colab": {
          "base_uri": "https://localhost:8080/"
        },
        "id": "Vdp8HkCMBtFV",
        "outputId": "ce54fe9e-6b92-4318-f983-7030890ffc14"
      },
      "execution_count": null,
      "outputs": [
        {
          "output_type": "stream",
          "name": "stdout",
          "text": [
            "Epoch 1/20\n",
            "400/400 [==============================] - 113s 260ms/step - loss: 0.1632 - accuracy: 0.9477 - val_loss: 0.1240 - val_accuracy: 0.9565\n",
            "Epoch 2/20\n",
            "400/400 [==============================] - 83s 209ms/step - loss: 0.0644 - accuracy: 0.9785 - val_loss: 0.1228 - val_accuracy: 0.9623\n",
            "Epoch 3/20\n",
            "400/400 [==============================] - 85s 212ms/step - loss: 0.0298 - accuracy: 0.9902 - val_loss: 0.1401 - val_accuracy: 0.9582\n",
            "Epoch 4/20\n",
            "400/400 [==============================] - 86s 214ms/step - loss: 0.0145 - accuracy: 0.9952 - val_loss: 0.1807 - val_accuracy: 0.9579\n",
            "Epoch 5/20\n",
            "400/400 [==============================] - 92s 230ms/step - loss: 0.0075 - accuracy: 0.9977 - val_loss: 0.2022 - val_accuracy: 0.9557\n",
            "200/200 [==============================] - 3s 15ms/step - loss: 0.1228 - accuracy: 0.9623\n",
            "Test Loss_gru: 0.1227656900882721\n",
            "Test Accuracy_gru: 0.9623025059700012\n",
            "Model: \"sequential_2\"\n",
            "_________________________________________________________________\n",
            " Layer (type)                Output Shape              Param #   \n",
            "=================================================================\n",
            " embedding_2 (Embedding)     (None, None, 100)         5000000   \n",
            "                                                                 \n",
            " bidirectional_2 (Bidirecti  (None, 256)               176640    \n",
            " onal)                                                           \n",
            "                                                                 \n",
            " dense_2 (Dense)             (None, 2)                 514       \n",
            "                                                                 \n",
            "=================================================================\n",
            "Total params: 5177154 (19.75 MB)\n",
            "Trainable params: 5177154 (19.75 MB)\n",
            "Non-trainable params: 0 (0.00 Byte)\n",
            "_________________________________________________________________\n",
            "None\n"
          ]
        }
      ]
    },
    {
      "cell_type": "markdown",
      "source": [
        "# **Flatten**"
      ],
      "metadata": {
        "id": "m8rtkY8PqEBW"
      }
    },
    {
      "cell_type": "code",
      "source": [
        "# Model Definition with a Flatten layer\n",
        "model_flatten = Sequential([\n",
        "    Embedding(vocab_size, embedding_dim, input_length=max_length),\n",
        "    Flatten(),\n",
        "    Dense(6, activation='relu'),\n",
        "    Dense(1, activation='sigmoid')\n",
        "])\n",
        "\n",
        "# Set the training parametersg\n",
        "model_flatten.compile(loss='binary_crossentropy', optimizer='adam', metrics=['accuracy'])\n",
        "\n",
        "# Fit the model on training data\n",
        "history_flatten = model_flatten.fit(train_pad_seq, train_y, epochs=50, batch_size=20,\n",
        "                                    validation_data=(test_pad_seq, test_y), callbacks=[early_stopping])\n",
        "\n",
        "# Evaluate the model\n",
        "loss_flatten, accuracy_flatten = model_flatten.evaluate(test_pad_seq, test_y)\n",
        "print(\"Test Loss:\", loss_flatten)\n",
        "print(\"Test Accuracy:\", accuracy_flatten)\n",
        "\n",
        "# Print the model summary\n",
        "print(model_flatten.summary())"
      ],
      "metadata": {
        "id": "JPlrgCPsC4FI",
        "colab": {
          "base_uri": "https://localhost:8080/"
        },
        "outputId": "f9c59812-0a48-492d-8aa4-260b323310e8"
      },
      "execution_count": null,
      "outputs": [
        {
          "output_type": "stream",
          "name": "stdout",
          "text": [
            "Epoch 1/50\n",
            "1279/1279 [==============================] - 103s 80ms/step - loss: 0.1621 - accuracy: 0.9461 - val_loss: 0.1236 - val_accuracy: 0.9568\n",
            "Epoch 2/50\n",
            "1279/1279 [==============================] - 94s 74ms/step - loss: 0.0406 - accuracy: 0.9860 - val_loss: 0.1386 - val_accuracy: 0.9556\n",
            "Epoch 3/50\n",
            "1279/1279 [==============================] - 99s 77ms/step - loss: 0.0076 - accuracy: 0.9980 - val_loss: 0.1690 - val_accuracy: 0.9557\n",
            "Epoch 4/50\n",
            "1279/1279 [==============================] - 98s 76ms/step - loss: 0.0033 - accuracy: 0.9991 - val_loss: 0.1838 - val_accuracy: 0.9503\n",
            "200/200 [==============================] - 0s 2ms/step - loss: 0.1236 - accuracy: 0.9568\n",
            "Test Loss: 0.12355872988700867\n",
            "Test Accuracy: 0.9568277597427368\n",
            "Model: \"sequential_3\"\n",
            "_________________________________________________________________\n",
            " Layer (type)                Output Shape              Param #   \n",
            "=================================================================\n",
            " embedding_3 (Embedding)     (None, 20, 100)           5000000   \n",
            "                                                                 \n",
            " flatten (Flatten)           (None, 2000)              0         \n",
            "                                                                 \n",
            " dense_3 (Dense)             (None, 6)                 12006     \n",
            "                                                                 \n",
            " dense_4 (Dense)             (None, 1)                 7         \n",
            "                                                                 \n",
            "=================================================================\n",
            "Total params: 5012013 (19.12 MB)\n",
            "Trainable params: 5012013 (19.12 MB)\n",
            "Non-trainable params: 0 (0.00 Byte)\n",
            "_________________________________________________________________\n",
            "None\n"
          ]
        }
      ]
    },
    {
      "cell_type": "markdown",
      "source": [
        "# **Conv**"
      ],
      "metadata": {
        "id": "k8lWPz_ZqEg0"
      }
    },
    {
      "cell_type": "code",
      "source": [
        "# Model Definition with Convolutional\n",
        "model_conv = Sequential([\n",
        "    Embedding(vocab_size, embedding_dim, input_length=max_length),\n",
        "    Conv1D(filters=128, kernel_size=5, activation='relu'),\n",
        "    GlobalAveragePooling1D(),\n",
        "    Dense(6, activation='relu'),\n",
        "    Dense(1, activation='sigmoid')\n",
        "])\n",
        "# Set the training parameters\n",
        "model_conv.compile(loss='binary_crossentropy', optimizer='adam', metrics=['accuracy'])\n",
        "\n",
        "# Fit the model on training data\n",
        "history_conv = model_conv.fit(train_pad_seq, train_y, epochs=50, batch_size=20,\n",
        "                              validation_data=(test_pad_seq, test_y), callbacks=[early_stopping])\n",
        "\n",
        "# Evaluate the model\n",
        "loss_conv, accuracy_conv = model_conv.evaluate(test_pad_seq, test_y)\n",
        "print(\"Test Loss_conv:\", loss_conv)\n",
        "print(\"Test Accuracy_conv:\", accuracy_conv)\n",
        "\n",
        "# Print the model summary\n",
        "print(model_conv.summary())\n"
      ],
      "metadata": {
        "id": "1ynfro_RDSAZ",
        "colab": {
          "base_uri": "https://localhost:8080/"
        },
        "outputId": "81e5d159-7dce-4800-b75d-600eb584934a"
      },
      "execution_count": null,
      "outputs": [
        {
          "output_type": "stream",
          "name": "stdout",
          "text": [
            "Epoch 1/50\n",
            "1279/1279 [==============================] - 108s 84ms/step - loss: 0.1764 - accuracy: 0.9466 - val_loss: 0.1179 - val_accuracy: 0.9584\n",
            "Epoch 2/50\n",
            "1279/1279 [==============================] - 107s 84ms/step - loss: 0.0649 - accuracy: 0.9780 - val_loss: 0.1206 - val_accuracy: 0.9631\n",
            "Epoch 3/50\n",
            "1279/1279 [==============================] - 107s 83ms/step - loss: 0.0348 - accuracy: 0.9894 - val_loss: 0.1439 - val_accuracy: 0.9543\n",
            "Epoch 4/50\n",
            "1279/1279 [==============================] - 108s 85ms/step - loss: 0.0203 - accuracy: 0.9939 - val_loss: 0.1773 - val_accuracy: 0.9543\n",
            "200/200 [==============================] - 1s 4ms/step - loss: 0.1179 - accuracy: 0.9584\n",
            "Test Loss_conv: 0.11791157722473145\n",
            "Test Accuracy_conv: 0.9583919644355774\n",
            "Model: \"sequential_4\"\n",
            "_________________________________________________________________\n",
            " Layer (type)                Output Shape              Param #   \n",
            "=================================================================\n",
            " embedding_4 (Embedding)     (None, 20, 100)           5000000   \n",
            "                                                                 \n",
            " conv1d (Conv1D)             (None, 16, 128)           64128     \n",
            "                                                                 \n",
            " global_average_pooling1d (  (None, 128)               0         \n",
            " GlobalAveragePooling1D)                                         \n",
            "                                                                 \n",
            " dense_5 (Dense)             (None, 6)                 774       \n",
            "                                                                 \n",
            " dense_6 (Dense)             (None, 1)                 7         \n",
            "                                                                 \n",
            "=================================================================\n",
            "Total params: 5064909 (19.32 MB)\n",
            "Trainable params: 5064909 (19.32 MB)\n",
            "Non-trainable params: 0 (0.00 Byte)\n",
            "_________________________________________________________________\n",
            "None\n"
          ]
        }
      ]
    },
    {
      "cell_type": "markdown",
      "source": [
        "# **ploting**"
      ],
      "metadata": {
        "id": "ffV6j2qSqm26"
      }
    },
    {
      "cell_type": "code",
      "source": [
        "\n",
        "models = ['LSTM', 'GRU', 'Flatten', 'Convd1']\n",
        "accuracy = [accuracy_lstm, accuracy_gru, accuracy_flatten, accuracy_conv]\n",
        "sns.barplot(x=models, y=accuracy, palette=\"Blues_d\")\n",
        "plt.title('Accuracy Comparison of Different Models')\n",
        "plt.xlabel('Models')\n",
        "plt.ylabel('Accuracy')\n",
        "plt.show()"
      ],
      "metadata": {
        "id": "pG4XAc8SGiNq",
        "colab": {
          "base_uri": "https://localhost:8080/",
          "height": 571
        },
        "outputId": "d3f19baf-c70e-4d86-d54c-e7e80d0e5fe6"
      },
      "execution_count": null,
      "outputs": [
        {
          "output_type": "stream",
          "name": "stderr",
          "text": [
            "<ipython-input-15-4e1bd60d121e>:6: FutureWarning: \n",
            "\n",
            "Passing `palette` without assigning `hue` is deprecated and will be removed in v0.14.0. Assign the `x` variable to `hue` and set `legend=False` for the same effect.\n",
            "\n",
            "  sns.barplot(x=models, y=accuracy, palette=\"Blues_d\")\n"
          ]
        },
        {
          "output_type": "display_data",
          "data": {
            "text/plain": [
              "<Figure size 640x480 with 1 Axes>"
            ],
            "image/png": "[encoded data removed]"
          },
          "metadata": {}
        }
      ]
    },
    {
      "cell_type": "code",
      "source": [
        "\n",
        "models = ['LSTM', 'GRU', 'Flatten', 'Convd1']\n",
        "losses = [loss_lstm, loss_gru, loss_flatten, loss_conv]\n",
        "sns.barplot(x=models, y=losses, palette=\"Greens\")\n",
        "plt.title('Loss Comparison of Different Models')\n",
        "plt.xlabel('Models')\n",
        "plt.ylabel('Loss')\n",
        "plt.show()"
      ],
      "metadata": {
        "colab": {
          "base_uri": "https://localhost:8080/",
          "height": 571
        },
        "outputId": "b43dfe05-b9d6-4032-df58-874d336d4981",
        "id": "QFTu27bRr_Lf"
      },
      "execution_count": null,
      "outputs": [
        {
          "output_type": "stream",
          "name": "stderr",
          "text": [
            "<ipython-input-23-0a74a72ad445>:3: FutureWarning: \n",
            "\n",
            "Passing `palette` without assigning `hue` is deprecated and will be removed in v0.14.0. Assign the `x` variable to `hue` and set `legend=False` for the same effect.\n",
            "\n",
            "  sns.barplot(x=models, y=losses, palette=\"Greens\")\n"
          ]
        },
        {
          "output_type": "display_data",
          "data": {
            "text/plain": [
              "<Figure size 640x480 with 1 Axes>"
            ],
            "image/png": "[encoded data removed]"
          },
          "metadata": {}
        }
      ]
    }
  ]
}